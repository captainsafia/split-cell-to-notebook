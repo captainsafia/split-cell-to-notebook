{
 "cells": [
  {
   "cell_type": "code",
   "execution_count": null,
   "metadata": {
    "collapsed": true
   },
   "outputs": [],
   "source": [
    "def _handle_kernel_died(self, kernel_id):\n",
    "    \"\"\"notice that a kernel died\"\"\"\n",
    "    self.log.warning(\"Kernel %s died, removing from map.\", kernel_id)\n",
    "    self.remove_kernel(kernel_id)\n",
    "\n",
    "def cwd_for_path(self, path):\n",
    "    \"\"\"Turn API path into absolute OS path.\"\"\"\n",
    "    os_path = to_os_path(path, self.root_dir)\n",
    "    # in the case of notebooks and kernels not being on the same filesystem,\n",
    "    # walk up to root_dir if the paths don't exist\n",
    "    while not os.path.isdir(os_path) and os_path != self.root_dir:\n",
    "        os_path = os.path.dirname(os_path)\n",
    "    return os_path"
   ]
  }
 ],
 "metadata": {
  "kernelspec": {
   "display_name": "Python 3",
   "language": "python",
   "name": "python3"
  },
  "language_info": {
   "codemirror_mode": {
    "name": "ipython",
    "version": 3
   },
   "file_extension": ".py",
   "mimetype": "text/x-python",
   "name": "python",
   "nbconvert_exporter": "python",
   "pygments_lexer": "ipython3",
   "version": "3.5.1"
  }
 },
 "nbformat": 4,
 "nbformat_minor": 0
}
